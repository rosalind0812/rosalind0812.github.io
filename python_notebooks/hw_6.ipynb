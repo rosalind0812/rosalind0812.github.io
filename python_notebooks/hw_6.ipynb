{
 "cells": [
  {
   "cell_type": "code",
   "execution_count": 68,
   "metadata": {},
   "outputs": [],
   "source": [
    "# import streamlit as st\n",
    "import pandas as pd\n",
    "import altair as alt\n"
   ]
  },
  {
   "cell_type": "code",
   "execution_count": 69,
   "metadata": {},
   "outputs": [],
   "source": [
    "# Load the data\n",
    "buildings = \"https://raw.githubusercontent.com/UIUC-iSchool-DataViz/is445_data/main/building_inventory.csv\"\n",
    "data = pd.read_csv(buildings)\n",
    "\n",
    "data['Year Constructed'] = data['Year Constructed'].astype(str)\n",
    "\n",
    "dataf = data.dropna(subset=['County'])\n",
    "\n",
    "county_selection = alt.selection_point(\n",
    "    fields=['County'], \n",
    "    bind=alt.binding_select(options=dataf['County'].unique().tolist(), name='Select County')\n",
    ")\n",
    "\n",
    "viz1 = alt.Chart(data).mark_bar().encode(\n",
    "    x=alt.X('Year Constructed:O', title='Year Constructed'),\n",
    "    y=alt.Y('count()', title='Number of Buildings'),\n",
    "    color=alt.Color('Bldg Status:N',\n",
    "                    scale=alt.Scale(domain=['In Use', 'Abandoned', 'In Progress'],\n",
    "                                    range=['red', 'blue', 'lightblue']),\n",
    "                    legend=alt.Legend(title='Building Status'))\n",
    ").add_params(\n",
    "    county_selection\n",
    ").transform_filter(\n",
    "    county_selection\n",
    ").properties(\n",
    "    title=\"Buildings Constructed Over Time by Status\",\n",
    "    width=600,\n",
    "    height=400\n",
    ")"
   ]
  },
  {
   "cell_type": "code",
   "execution_count": 70,
   "metadata": {},
   "outputs": [],
   "source": [
    "#chart2\n",
    "year_min = 1753\n",
    "year_max = int(data['Year Acquired'].max())\n",
    "slider = alt.binding_range(min=year_min, max=year_max, step=1, name='Year Acquired Range:')\n",
    "year_selection = alt.selection_point(fields=['Year Acquired'], bind=slider, name='Year Range')\n",
    "\n",
    "color_scale = alt.Scale(domain=['Abandon', 'In Progress', 'In Use'], range=['blue', 'lightblue', 'red'])\n",
    "\n",
    "viz2 = alt.Chart(data).mark_circle(size=60).encode(\n",
    "    x=alt.X('Year Acquired:O', title='Year Acquired'),\n",
    "    y=alt.Y('Square Footage:Q', title='Square Footage'),\n",
    "    color=alt.Color('Bldg Status:N', scale=color_scale, legend=alt.Legend(title='Building Status')),\n",
    "    tooltip=['Location Name', 'Square Footage', 'Year Acquired']\n",
    ").properties(\n",
    "    title=\"Square Footage by Year Acquired\",\n",
    "    width=600,\n",
    "    height=400\n",
    ").add_params(\n",
    "    year_selection\n",
    ").transform_filter(\n",
    "    year_selection\n",
    ")\n",
    "\n",
    "# viz2"
   ]
  },
  {
   "cell_type": "code",
   "execution_count": 71,
   "metadata": {},
   "outputs": [],
   "source": [
    "myJekyllDir = '/Users/rosalindchang/Desktop/GitHub/rosalind0812.github.io/assets/json/'"
   ]
  },
  {
   "cell_type": "code",
   "execution_count": 72,
   "metadata": {},
   "outputs": [],
   "source": [
    "viz1.properties(width='container').save(myJekyllDir + 'viz1.json')"
   ]
  },
  {
   "cell_type": "code",
   "execution_count": 73,
   "metadata": {},
   "outputs": [],
   "source": [
    "viz2.properties(width='container').save(myJekyllDir + 'viz2.json')"
   ]
  }
 ],
 "metadata": {
  "kernelspec": {
   "display_name": "DataViz",
   "language": "python",
   "name": "python3"
  },
  "language_info": {
   "codemirror_mode": {
    "name": "ipython",
    "version": 3
   },
   "file_extension": ".py",
   "mimetype": "text/x-python",
   "name": "python",
   "nbconvert_exporter": "python",
   "pygments_lexer": "ipython3",
   "version": "3.10.14"
  }
 },
 "nbformat": 4,
 "nbformat_minor": 2
}
